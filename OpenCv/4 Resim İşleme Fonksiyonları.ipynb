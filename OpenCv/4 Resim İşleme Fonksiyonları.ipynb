{
 "cells": [
  {
   "cell_type": "code",
   "execution_count": 1,
   "metadata": {},
   "outputs": [],
   "source": [
    "import cv2 as cv\n",
    "import numpy as np\n",
    "import matplotlib as mp\n",
    "from matplotlib import pyplot as plt\n",
    "\n",
    "#https://docs.opencv.org/4.0.1/d2/d96/tutorial_py_table_of_contents_imgproc.html"
   ]
  },
  {
   "cell_type": "markdown",
   "metadata": {},
   "source": [
    "# 1 Videodan Renkli Obje Yakalama"
   ]
  },
  {
   "cell_type": "code",
   "execution_count": 3,
   "metadata": {},
   "outputs": [],
   "source": [
    "cap = cv.VideoCapture(0)\n",
    "while(1):\n",
    "    # Her bir frameyi yakala\n",
    "    _, frame = cap.read()\n",
    "    # BGR rengini HSV'ye çevir\n",
    "    hsv = cv.cvtColor(frame, cv.COLOR_BGR2HSV)\n",
    "    # HSV'deki mavi renk aralığını belirle\n",
    "    lower_blue = np.array([110,50,50])\n",
    "    upper_blue = np.array([130,255,255])\n",
    "    # HSV'ye göre sadece mavi rengi görebilecek şekilde treshold uygula\n",
    "    mask = cv.inRange(hsv, lower_blue, upper_blue)\n",
    "    # Bitwise-AND maskeleme yap\n",
    "    res = cv.bitwise_and(frame,frame, mask= mask)\n",
    "    cv.imshow('frame',frame)\n",
    "    cv.imshow('mask',mask)\n",
    "    cv.imshow('res',res)\n",
    "    k = cv.waitKey(5) & 0xFF # ESC bu\n",
    "    if k == 27:\n",
    "        break\n",
    "cv.destroyAllWindows()\n",
    "cap.release()"
   ]
  },
  {
   "cell_type": "code",
   "execution_count": 4,
   "metadata": {},
   "outputs": [
    {
     "name": "stdout",
     "output_type": "stream",
     "text": [
      "[[[ 60 255 255]]]\n"
     ]
    }
   ],
   "source": [
    "# Bir rengin HSV kodları nasıl bulunur? yeşili bulalım\n",
    "green = np.uint8([[[0,255,0 ]]])\n",
    "hsv_green = cv.cvtColor(green,cv.COLOR_BGR2HSV)\n",
    "print(hsv_green)"
   ]
  },
  {
   "cell_type": "code",
   "execution_count": null,
   "metadata": {},
   "outputs": [],
   "source": [
    "# 2'de image rotation ve transform işlemleri\n",
    "# 3'te resim üzerinde treshold işlemleri\n",
    "# 4'te yumuşatma blur efekti vb\n",
    "# 5'te stroke işlemleri kalınlaştırma inceltme vb\n",
    "# 6'da gradient efekti\n",
    "# 7'de objelerin kenarlarını tespit etme işlemleri\n",
    "# 8'de resim piramidi blurlama birleştirme vb işlemleri\n",
    "# 9'da kontür işlemleri, benzer (tek renk)şekilleri tespit edebilme vb\n",
    "# 10'da resimlerin renk yoğunluk histogramları\n",
    "# 11'de fourier transform işlemi\n",
    "# 12'de matching tıpatıp aynı olan bir şeyi bir resimde aramak. örneğin birinin yüzü resmin neresinde var?\n",
    "# 13'de hough transform çizgiler için çizgi tespiti\n",
    "# 14'de circle yuvarlaklar tespiti\n",
    "# 15'te image segmentation - obje merkezlerine bakarak objeler arası mesafeyi belirleyebilme\n",
    "# 16'da resimde ön plana çıkan şeyi tespit etme "
   ]
  }
 ],
 "metadata": {
  "kernelspec": {
   "display_name": "Python 3",
   "language": "python",
   "name": "python3"
  },
  "language_info": {
   "codemirror_mode": {
    "name": "ipython",
    "version": 3
   },
   "file_extension": ".py",
   "mimetype": "text/x-python",
   "name": "python",
   "nbconvert_exporter": "python",
   "pygments_lexer": "ipython3",
   "version": "3.6.5"
  }
 },
 "nbformat": 4,
 "nbformat_minor": 2
}
