{
 "cells": [
  {
   "cell_type": "markdown",
   "metadata": {},
   "source": [
    "Feature Detection bilioruz. Feature Description ise özelliğin etrafındaki özellikler olarak tanımlanabilir. Örneğin örneğin \"evlerin üzerinde her zaman mavi bir gökyüzü olur\" feature descriptiona bir örnektir. \"Arabalar daima yollardadır\" etc.. Böylece benzer objeler tespit edilirken etraflarındaki diğer özelliklerden çıkarımlar yapılabilir ve daha iyi tanınabilirler. Sadece objenin kendisinin değil, etrafındaki şeylerin de önemi vardır."
   ]
  },
  {
   "cell_type": "code",
   "execution_count": 1,
   "metadata": {},
   "outputs": [],
   "source": [
    "import cv2 as cv\n",
    "import numpy as np\n",
    "import matplotlib as mp\n",
    "from matplotlib import pyplot as plt\n",
    "\n",
    "#https://docs.opencv.org/4.0.1/db/d27/tutorial_py_table_of_contents_feature2d.html\n",
    "#https://docs.opencv.org/4.0.1/d3/db0/tutorial_py_table_of_contents_video.html\n",
    "#https://docs.opencv.org/4.0.1/d9/db7/tutorial_py_table_of_contents_calib3d.html\n",
    "#https://docs.opencv.org/4.0.1/d0/d07/tutorial_py_table_of_contents_photo.html"
   ]
  },
  {
   "cell_type": "code",
   "execution_count": 1,
   "metadata": {},
   "outputs": [],
   "source": [
    "# 2'de köşe tespiti var. Bir cismin örneğin küpün köşeleri tespit edilebilir.\n",
    "# 3'te de köşe tespiti var farklı bir algoritma ile.\n",
    "# 4, 5 Keypoint Detection ve Descriptors. Yani Resimdeki Kilit Noktaların Tespitiç\n",
    "#      ama kullanılan algoritmalar lisanslı olduğundan her OpenCV versiyonunda olmayabiliyor.\n",
    "# 6.1'de CamShift ve MeanShift var. Videodaki belirli bir nesnenin hareketini takip edebilmeyi sağlıyor.\n",
    "#      nesnemiz araba olsun, araba nereye giderse gitsin arabayı çerçeveli olarak gösteriyor takip ediyor.\n",
    "# 6.2'de Optical Flow var. Yani hareket eden bir şey, arkasında iz bırakıyor. Ayak izi bırakmak gibi düşünülebilir.\n",
    "# 6.3'de arkaplanı görüntüden çıkaran ve hareketli şeyleri algılayan algoritmalar var.\n",
    "# 7.1'de kamera kalibrasyonuyla ilgili kodlar var.\n",
    "# 7.2'de resime 3 boyutlu şeyler koyabilmekle ilgili. Açıyı dikkate alıyor ve güzel yerleştiriyor.\n",
    "# 8.1'de image denoision yani noise silme yoketme işlemleri.\n",
    "# 8.2'de image inpainting. Bozuk bir resim ile düzgün hali verilirse bozuk resim düzeltilebilir.\n",
    "#     resimlerin bozuk kısımları düzeltilebilir.\n",
    "# 8.3'de HDR, resmin birkaç farklı zamandaki çekimi verilirse düzgün renklisi elde edilebilir."
   ]
  },
  {
   "cell_type": "code",
   "execution_count": null,
   "metadata": {},
   "outputs": [],
   "source": []
  }
 ],
 "metadata": {
  "kernelspec": {
   "display_name": "Python 3",
   "language": "python",
   "name": "python3"
  },
  "language_info": {
   "codemirror_mode": {
    "name": "ipython",
    "version": 3
   },
   "file_extension": ".py",
   "mimetype": "text/x-python",
   "name": "python",
   "nbconvert_exporter": "python",
   "pygments_lexer": "ipython3",
   "version": "3.6.5"
  }
 },
 "nbformat": 4,
 "nbformat_minor": 2
}
