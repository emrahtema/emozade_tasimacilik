{
 "cells": [
  {
   "cell_type": "markdown",
   "metadata": {},
   "source": [
    "# DETECTING PENTAS AND QUADRAS"
   ]
  },
  {
   "cell_type": "code",
   "execution_count": 47,
   "metadata": {},
   "outputs": [],
   "source": [
    "from PIL import Image\n",
    "import cv2\n",
    "from IPython.display import clear_output\n",
    "import pytesseract\n",
    "from pytube import YouTube\n",
    "import os\n",
    "import datetime"
   ]
  },
  {
   "cell_type": "code",
   "execution_count": 60,
   "metadata": {},
   "outputs": [],
   "source": [
    "def crop_image(x1, x2, y1, y2):\n",
    "    \"\"\"crops the image for detecting the text better and returns\"\"\"\n",
    "    \n",
    "    imgage = Image.open(\"frame.png\")\n",
    "    area = (x1, x2, y1, y2)\n",
    "    cropped_image = imgage.crop(area)\n",
    "    return cropped_image\n",
    "\n",
    "\n",
    "def get_timestamp(video_capture, fps):\n",
    "    \"\"\"returns exact time of the current frame\"\"\"\n",
    "    \n",
    "    timestamps = [video_capture.get(cv2.CAP_PROP_POS_MSEC)]\n",
    "    calculate_timestamps = [0.0]\n",
    "    timestamps.append(video_capture.get(cv2.CAP_PROP_POS_MSEC))\n",
    "    calculate_timestamps.append(calculate_timestamps[-1] + 1000/fps)\n",
    "    time, _ = zip(timestamps, calculate_timestamps)\n",
    "    time = time[0] // 1000\n",
    "    return time\n",
    "\n",
    "\n",
    "def detect_pentas_quadras(video_path, player, video_name, video_counter, videos_count):\n",
    "    \"\"\"detects pentas and quadras in videos and returns as a list\"\"\"\n",
    "    \n",
    "    video_capture = cv2.VideoCapture(video_path)\n",
    "    #fps = vidcap.get(cv2.cv.CV_CAP_PROP_FPS)\n",
    "    fps = int(video_capture.get(cv2.CAP_PROP_FPS))\n",
    "    frame_count = int(video_capture.get(cv2.CAP_PROP_FRAME_COUNT))\n",
    "    total_seccond = frame_count // fps\n",
    "    pentas = []\n",
    "    quadras = []\n",
    "    seccond_counter = 0\n",
    "    #width = vcap.get(cv2.cv.CV_CAP_PROP_FRAME_WIDTH)   # float\n",
    "    #width = vidcap.get(cv2.CAP_PROP_FRAME_WIDTH)\n",
    "    #height = vidcap.get(cv2.CAP_PROP_FRAME_HEIGHT)\n",
    "\n",
    "    while(video_capture.isOpened()):\n",
    "        for i in range(fps):\n",
    "            frame_exists, image = video_capture.read()\n",
    "        seccond_counter += 1\n",
    "        \n",
    "        #cv2.imwrite(\"frame.jpg\", image)\n",
    "        #img = cv2.imread('im.png')\n",
    "        #Pıl image.save(\"name\")\n",
    "        \n",
    "        if frame_exists:\n",
    "            cv2.imwrite(\"frame.png\", image)\n",
    "        else:\n",
    "            break\n",
    "\n",
    "        cropped_image_penta = crop_image(400, 0, 900, 250)\n",
    "        result_penta = pytesseract.image_to_string(cropped_image_penta, lang=\"eng\")\n",
    "        \n",
    "        cropped_image_quadra = crop_image(450, 50, 800, 175)\n",
    "        result_quadra = pytesseract.image_to_string(cropped_image_quadra, lang=\"tur\")\n",
    "\n",
    "        if (\"BESTE\" in result_penta) or (\"BES\" in result_penta) or\\\n",
    "                                    (\"BEŞTE\" in result_quadra)or (\"BEŞ\" in result_quadra):\n",
    "            time = get_timestamp(video_capture, fps)\n",
    "            pentas.append([time, player, video_name])\n",
    "        elif (\"DÖRTTE\" in result_quadra) or (\"DÖRT\" in result_quadra) or\\\n",
    "                                    (\"DORT\" in result_penta) or (\"DORTTE\" in result_penta):\n",
    "            time = get_timestamp(video_capture, fps)\n",
    "            quadras.append([time, player, video_name])\n",
    "        \n",
    "        clear_output(wait=True)\n",
    "        print(seccond_counter, \"/\", total_seccond, \" | \", video_counter, \"/\", videos_count)\n",
    "    \n",
    "    video_capture.release()\n",
    "    return pentas, quadras\n",
    "\n",
    "\n",
    "def download_videos():\n",
    "    \"\"\"downloads the videos\"\"\"\n",
    "    \n",
    "    with open(\"videos.txt\", \"r\") as file:\n",
    "        videos = file.read().split(\"***\")\n",
    "\n",
    "    video_count = 0\n",
    "    video_links = []\n",
    "    for video in videos:\n",
    "        video_ = video.split(\"\\n\")\n",
    "        player = video_[0]\n",
    "        links = video_[1:]\n",
    "        video_links.append((player, links))\n",
    "        video_count += len(links)\n",
    "\n",
    "    download_counter = 0\n",
    "    for name, links in video_links:\n",
    "        link_count = len(links)\n",
    "        for link in links:\n",
    "            yt = YouTube(link).streams.first().download('videos/' + name)\n",
    "            clear_output(wait=True)\n",
    "            download_counter += 1\n",
    "            print(download_counter, \"/\", video_count)\n",
    "\n",
    "\n",
    "def get_videos_list(players):\n",
    "    \"\"\"returns list of videos of a players\"\"\"\n",
    "    \n",
    "    all_videos = []\n",
    "    for player in players:\n",
    "        for r, d, f in os.walk(\"videos/\" + yayinci):\n",
    "            for file in f:\n",
    "                if '.mp4' in file:\n",
    "                    all_videos.append(os.path.join(r, file))\n",
    "    return all_videos\n",
    "\n",
    "\n",
    "def get_quadras_pentas():\n",
    "    \"\"\"returns pentas and quadras in a list\"\"\"\n",
    "    \n",
    "    video_counter = 0\n",
    "    count_all_videos = len(all_videos)\n",
    "    pentas = []\n",
    "    quadras = []\n",
    "    \n",
    "    for video in all_videos:\n",
    "        splits = video.split(\"/\")\n",
    "        player = splits[1]\n",
    "        video_name = splits[2][:50]\n",
    "        video_counter += 1\n",
    "        penta, quadra = detect_pentas_quadras(video, yayinci, video_name, video_counter, count_all_videos)\n",
    "        pentas.append(penta)\n",
    "        quadras.append(quadra)\n",
    "    return pentas, quadras\n",
    "\n",
    "\n",
    "def print_and_save_times(penta_list, quadra_list):\n",
    "    \"\"\"saves the information of quadras and pentas info a file\"\"\"\n",
    "    \n",
    "    print(\"Pentas\", \"********\")\n",
    "    to_save = \"Pentas\\n\"\n",
    "    for pentas in penta_list:\n",
    "        for record in pentas:\n",
    "            record[0] = str(int(record[0]) // 60) + \":\" + str(int(record[0]%60))\n",
    "            print(record)\n",
    "            to_save += ', '.join(record) + \"\\n\"\n",
    "    \n",
    "    print(\"Quadras\", \"********\")\n",
    "    to_save += \"\\nQuadras\\n\"\n",
    "    for quadras in quadra_list:\n",
    "        for record in quadras:\n",
    "            record[0] = str(int(record[0]) // 60) + \":\" + str(int(record[0]%60))\n",
    "            print(record)\n",
    "            to_save += ', '.join(record) + \"\\n\"\n",
    "    \n",
    "    add_file_name = str(datetime.datetime.now())[5:16]\n",
    "    with open(\"pentas_quadras_\" + add_file_name +\".txt\", \"w\") as file:\n",
    "        file.write(to_save)"
   ]
  },
  {
   "cell_type": "code",
   "execution_count": 53,
   "metadata": {},
   "outputs": [
    {
     "name": "stdout",
     "output_type": "stream",
     "text": [
      "3 / 3\n"
     ]
    }
   ],
   "source": [
    "download_videos()"
   ]
  },
  {
   "cell_type": "code",
   "execution_count": 57,
   "metadata": {},
   "outputs": [
    {
     "name": "stdout",
     "output_type": "stream",
     "text": [
      "659 / 659  |  3 / 3\n"
     ]
    }
   ],
   "source": [
    "get_videos_list([\"baris\",])\n",
    "pentas, quadras = get_quadras_pentas()"
   ]
  },
  {
   "cell_type": "code",
   "execution_count": 61,
   "metadata": {},
   "outputs": [
    {
     "name": "stdout",
     "output_type": "stream",
     "text": [
      "Pentas ********\n",
      "['19:44', 'baris', 'PİNGİM VAR DEDİ OYUNDAN ÇIKTI !! PENTA ATTIM !! 4V']\n",
      "['9:56', 'baris', '1V4 İMKANSIZ QUADRAYI ATMAK !! ZEDİ 90LARA GÖNDERD']\n",
      "['9:57', 'baris', '1V4 İMKANSIZ QUADRAYI ATMAK !! ZEDİ 90LARA GÖNDERD']\n",
      "Quadras ********\n",
      "['0:19', 'baris', 'PİNGİM VAR DEDİ OYUNDAN ÇIKTI !! PENTA ATTIM !! 4V']\n",
      "['0:21', 'baris', 'PİNGİM VAR DEDİ OYUNDAN ÇIKTI !! PENTA ATTIM !! 4V']\n",
      "['19:39', 'baris', 'PİNGİM VAR DEDİ OYUNDAN ÇIKTI !! PENTA ATTIM !! 4V']\n",
      "['19:40', 'baris', 'PİNGİM VAR DEDİ OYUNDAN ÇIKTI !! PENTA ATTIM !! 4V']\n",
      "['19:41', 'baris', 'PİNGİM VAR DEDİ OYUNDAN ÇIKTI !! PENTA ATTIM !! 4V']\n",
      "['4:47', 'baris', '1V4 İMKANSIZ QUADRAYI ATMAK !! ZEDİ 90LARA GÖNDERD']\n",
      "['7:38', 'baris', '1V4 İMKANSIZ QUADRAYI ATMAK !! ZEDİ 90LARA GÖNDERD']\n",
      "['7:39', 'baris', '1V4 İMKANSIZ QUADRAYI ATMAK !! ZEDİ 90LARA GÖNDERD']\n",
      "['9:53', 'baris', '1V4 İMKANSIZ QUADRAYI ATMAK !! ZEDİ 90LARA GÖNDERD']\n",
      "['9:54', 'baris', '1V4 İMKANSIZ QUADRAYI ATMAK !! ZEDİ 90LARA GÖNDERD']\n",
      "['9:55', 'baris', '1V4 İMKANSIZ QUADRAYI ATMAK !! ZEDİ 90LARA GÖNDERD']\n"
     ]
    }
   ],
   "source": [
    "print_and_save_times(pentas, quadras)"
   ]
  },
  {
   "cell_type": "code",
   "execution_count": null,
   "metadata": {},
   "outputs": [],
   "source": []
  }
 ],
 "metadata": {
  "kernelspec": {
   "display_name": "Python 3",
   "language": "python",
   "name": "python3"
  },
  "language_info": {
   "codemirror_mode": {
    "name": "ipython",
    "version": 3
   },
   "file_extension": ".py",
   "mimetype": "text/x-python",
   "name": "python",
   "nbconvert_exporter": "python",
   "pygments_lexer": "ipython3",
   "version": "3.7.4"
  }
 },
 "nbformat": 4,
 "nbformat_minor": 2
}
