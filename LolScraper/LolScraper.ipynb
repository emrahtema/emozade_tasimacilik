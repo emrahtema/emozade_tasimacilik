{
 "cells": [
  {
   "cell_type": "code",
   "execution_count": 31,
   "metadata": {},
   "outputs": [],
   "source": [
    "import pandas as pd\n",
    "import numpy as np\n",
    "from bs4 import BeautifulSoup as bs\n",
    "import requests \n",
    "from IPython.display import clear_output"
   ]
  },
  {
   "cell_type": "code",
   "execution_count": 32,
   "metadata": {},
   "outputs": [
    {
     "name": "stdout",
     "output_type": "stream",
     "text": [
      "https://www.mobafire.com/leagu....lable=&on_sale=&is_new=&page=1\n",
      "https://www.mobafire.com/leagu....lable=&on_sale=&is_new=&page=2\n",
      "https://www.mobafire.com/leagu....lable=&on_sale=&is_new=&page=3\n",
      "https://www.mobafire.com/leagu....lable=&on_sale=&is_new=&page=4\n",
      "https://www.mobafire.com/leagu....lable=&on_sale=&is_new=&page=5\n",
      "https://www.mobafire.com/leagu....lable=&on_sale=&is_new=&page=6\n",
      "https://www.mobafire.com/leagu....lable=&on_sale=&is_new=&page=7\n",
      "https://www.mobafire.com/leagu....lable=&on_sale=&is_new=&page=8\n",
      "https://www.mobafire.com/leagu....lable=&on_sale=&is_new=&page=9\n",
      "https://www.mobafire.com/leagu....able=&on_sale=&is_new=&page=10\n",
      "https://www.mobafire.com/leagu....able=&on_sale=&is_new=&page=11\n",
      "https://www.mobafire.com/leagu....able=&on_sale=&is_new=&page=12\n",
      "https://www.mobafire.com/leagu....able=&on_sale=&is_new=&page=13\n",
      "https://www.mobafire.com/leagu....able=&on_sale=&is_new=&page=14\n",
      "https://www.mobafire.com/leagu....able=&on_sale=&is_new=&page=15\n",
      "https://www.mobafire.com/leagu....able=&on_sale=&is_new=&page=16\n",
      "https://www.mobafire.com/leagu....able=&on_sale=&is_new=&page=17\n",
      "https://www.mobafire.com/leagu....able=&on_sale=&is_new=&page=18\n",
      "https://www.mobafire.com/leagu....able=&on_sale=&is_new=&page=19\n",
      "https://www.mobafire.com/leagu....able=&on_sale=&is_new=&page=20\n",
      "https://www.mobafire.com/leagu....able=&on_sale=&is_new=&page=21\n",
      "https://www.mobafire.com/leagu....able=&on_sale=&is_new=&page=22\n",
      "https://www.mobafire.com/leagu....able=&on_sale=&is_new=&page=23\n",
      "https://www.mobafire.com/leagu....able=&on_sale=&is_new=&page=24\n",
      "https://www.mobafire.com/leagu....able=&on_sale=&is_new=&page=25\n",
      "https://www.mobafire.com/leagu....able=&on_sale=&is_new=&page=26\n",
      "1127 / 1144\n"
     ]
    }
   ],
   "source": [
    "PAGE_NUM = 26\n",
    "skins = []\n",
    "url = \"https://www.mobafire.com/league-of-legends/\"\n",
    "url += \"skins?sort_type=price&sort_order=asc&champion_id=&skin_name=&skin_type=&is_available=&on_sale=&is_new=&page=\"\n",
    "\n",
    "for i in range(1, PAGE_NUM+1):\n",
    "    try:\n",
    "        # Öncelikle URL'imizi oluşturuyoruz\n",
    "        # https://www.dunyahalleri.com/category/kultur-sanat/page/25\n",
    "        newurl = url + str(i)\n",
    "        print(newurl[:30] + \"....\" + newurl[-30:])\n",
    "\n",
    "        # Url'nin içerisindeki bütün html dosyasını indiriyoruz.\n",
    "        html = requests.get(newurl).text\n",
    "        soup = bs(html, \"lxml\")\n",
    "\n",
    "        # Bütün bilgileri buradan tags adında bir değişkene topluyoruz.\n",
    "        tags = soup.findAll(\"a\", class_=\"champ-skins__item\")\n",
    "        \n",
    "        # Sırayla bütün taglara girip, href'in içerisindeki linki urls adlı listemize append ediyoruz.\n",
    "        for content in tags:\n",
    "            skin_name = str(content.findAll(\"h3\")[0])[4:-5]\n",
    "            name_for_link = '-'.join(str(content).split(\"\\n\")[0].split('=\"')[3].split(\"/\")[3].split('\"')[0].split(\"-\")[:-1])\n",
    "            skins.append([skin_name, name_for_link])\n",
    "        \n",
    "    except IndexError:\n",
    "        break\n",
    "\n",
    "print(len(skins), \"/\", PAGE_NUM*44)"
   ]
  },
  {
   "cell_type": "code",
   "execution_count": 33,
   "metadata": {},
   "outputs": [],
   "source": [
    "# Generate links\n",
    "\n",
    "for i in range(len(skins)):\n",
    "    skins[i][1] = \"https://www.mobafire.com/images/champion/skins/landscape/\" + skins[i][1] + \".jpg\""
   ]
  },
  {
   "cell_type": "code",
   "execution_count": 36,
   "metadata": {},
   "outputs": [],
   "source": [
    "def read_skins():\n",
    "    with open(\"skins.txt\", \"r\") as file:\n",
    "        data = file.read()\n",
    "    data = data.split(\"\\n\")\n",
    "    data = [d.split(\",\") for d in data]\n",
    "    return data"
   ]
  },
  {
   "cell_type": "code",
   "execution_count": 37,
   "metadata": {},
   "outputs": [
    {
     "name": "stdout",
     "output_type": "stream",
     "text": [
      "1128 1127\n"
     ]
    }
   ],
   "source": [
    "readed_skins = read_skins()\n",
    "\n",
    "for skin in skins:\n",
    "    is_recorded = False\n",
    "    for readed_skin in readed_skins:\n",
    "        if skin[0] == readed_skin[2]:\n",
    "            is_recorded = True\n",
    "            break\n",
    "    if not is_recorded:\n",
    "        readed_skins.append(skin)\n",
    "print(len(readed_skins), len(skins))"
   ]
  },
  {
   "cell_type": "code",
   "execution_count": 40,
   "metadata": {},
   "outputs": [],
   "source": [
    "# İncelendi,Yapıldı,İsim,Link,KolayZorNormal,ÖncelikVar\n",
    "skins_format = [\"0,0,\" + skin[0] + \",\" + skin[1] + \",KZN,0,Emp\" if len(skin)==2 \n",
    "                else ','.join(skin) for skin in readed_skins]"
   ]
  },
  {
   "cell_type": "code",
   "execution_count": 41,
   "metadata": {},
   "outputs": [],
   "source": [
    "with open(\"skins.txt\", \"w\") as file:\n",
    "    file.write(\"\\n\".join(skins_format))"
   ]
  },
  {
   "cell_type": "markdown",
   "metadata": {},
   "source": [
    "# UYGULAMA"
   ]
  },
  {
   "cell_type": "code",
   "execution_count": 42,
   "metadata": {},
   "outputs": [],
   "source": [
    "from IPython.display import display, Image\n",
    "with open(\"skins.txt\", \"r\") as file:\n",
    "    data = file.read().split(\"\\n\")\n",
    "data = [d.split(\",\") for d in data]"
   ]
  },
  {
   "cell_type": "code",
   "execution_count": 43,
   "metadata": {},
   "outputs": [
    {
     "name": "stdout",
     "output_type": "stream",
     "text": [
      "https://www.mobafire.com/images/champion/skins/landscape/ahri-classic.jpg\n",
      "Kaydet: e, İşleme Devam: h, Çık: xx\n"
     ]
    }
   ],
   "source": [
    "for i in range(len(data)):\n",
    "    d = data[i]\n",
    "    if d[0] == \"0\":\n",
    "        print(d[3])\n",
    "        choice = input(\"Kaydet: e, İşleme Devam: h, Çık: x\")\n",
    "        if choice == \"h\":\n",
    "            new_data = [\"1\"] + d[1:]\n",
    "            data[i] = new_data\n",
    "        elif choice == \"e\":\n",
    "            d[0] = \"1\"\n",
    "            zorluk = input(\"Zorluk: K,Z,N\")\n",
    "            d[4] = zorluk\n",
    "            oncelik = input(\"Öncelik:0,1\")\n",
    "            d[5] = oncelik\n",
    "            neresi = input(\"Neresi?:\")\n",
    "            dk[6] = neresi\n",
    "        elif choice == \"x\":\n",
    "            break\n",
    "        else:\n",
    "            continue\n",
    "    clear_output(wait=True)"
   ]
  },
  {
   "cell_type": "code",
   "execution_count": null,
   "metadata": {},
   "outputs": [],
   "source": [
    "skins = [','.join(skin) for skin in data]\n",
    "with open(\"skins.txt\", \"w\") as file:\n",
    "    file.write(\"\\n\".join(data))"
   ]
  }
 ],
 "metadata": {
  "kernelspec": {
   "display_name": "Python 3",
   "language": "python",
   "name": "python3"
  },
  "language_info": {
   "codemirror_mode": {
    "name": "ipython",
    "version": 3
   },
   "file_extension": ".py",
   "mimetype": "text/x-python",
   "name": "python",
   "nbconvert_exporter": "python",
   "pygments_lexer": "ipython3",
   "version": "3.7.4"
  }
 },
 "nbformat": 4,
 "nbformat_minor": 2
}
