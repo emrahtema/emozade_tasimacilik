{
 "cells": [
  {
   "cell_type": "markdown",
   "metadata": {},
   "source": [
    "# Self Organized Maps Hybrid (Unsupervized to Supervized)"
   ]
  },
  {
   "cell_type": "markdown",
   "metadata": {},
   "source": [
    "### SOM Part"
   ]
  },
  {
   "cell_type": "code",
   "execution_count": 12,
   "metadata": {},
   "outputs": [],
   "source": [
    "import numpy as np\n",
    "import matplotlib.pyplot as plt\n",
    "import pandas as pd\n",
    "#\n",
    "dataset = pd.read_csv(\"data/SOM/Credit_Card_Applications.csv\")\n",
    "X = dataset.iloc[:, :-1].values\n",
    "y = dataset.iloc[:, -1].values\n",
    "#\n",
    "from sklearn.preprocessing import MinMaxScaler\n",
    "sc = MinMaxScaler(feature_range = (0, 1)) # skala 0-1 arasında olacak\n",
    "X = sc.fit_transform(X)\n",
    "#\n",
    "from data.SOM.minisom import MiniSom\n",
    "som = MiniSom(x = 10, y = 10, input_len = 15, sigma = 1.0, learning_rate = 0.5)\n",
    "som.random_weights_init(X)\n",
    "som.train_random(X, num_iteration = 100)"
   ]
  },
  {
   "cell_type": "code",
   "execution_count": 13,
   "metadata": {},
   "outputs": [
    {
     "data": {
      "image/png": "[encoded data removed]",
      "text/plain": [
       "<Figure size 432x288 with 2 Axes>"
      ]
     },
     "metadata": {},
     "output_type": "display_data"
    }
   ],
   "source": [
    "from pylab import bone, pcolor, colorbar, plot, show\n",
    "bone()\n",
    "pcolor(som.distance_map().T)\n",
    "colorbar()\n",
    "markers = ['o', 's']\n",
    "colors = ['r', 'g']\n",
    "for i, x in enumerate(X):\n",
    "    w = som.winner(x)\n",
    "    plot(w[0] + 0.5, w[1] + 0.5, markers[y[i]], \n",
    "         markeredgecolor = colors[y[i]], markerfacecolor = 'None', markersize = 10, markeredgewidth = 2) \n",
    "show()"
   ]
  },
  {
   "cell_type": "code",
   "execution_count": 16,
   "metadata": {},
   "outputs": [
    {
     "name": "stdout",
     "output_type": "stream",
     "text": [
      "21\n"
     ]
    }
   ],
   "source": [
    "mappings = som.win_map(X)\n",
    "frauds = mappings[(6, 1)] + mappings[(6, 2)]\n",
    "frauds = sc.inverse_transform(frauds)\n",
    "print(len(frauds))"
   ]
  },
  {
   "cell_type": "markdown",
   "metadata": {},
   "source": [
    "### ANN Part"
   ]
  },
  {
   "cell_type": "code",
   "execution_count": 21,
   "metadata": {},
   "outputs": [
    {
     "name": "stdout",
     "output_type": "stream",
     "text": [
      "21\n"
     ]
    }
   ],
   "source": [
    "# matrix of features\n",
    "customers = dataset.iloc[:, 1:].values # müşteri id hariç hepsini alıyoruz\n",
    "# dependent variable (y)\n",
    "is_fraud = np.zeros(len(dataset)) # bütün sütun değerleri sıfır olan bir liste oluşturuyoruz\n",
    "# bu listede frauds olan müşteri indexlerini 1 yapıyoruz ki dolandırıcı olduklarını temsil etsin\n",
    "is_fraud = [1 if dataset.iloc[i, 0] in frauds else 0 for i in range(len(is_fraud))]\n",
    "print(sum(is_fraud))"
   ]
  },
  {
   "cell_type": "code",
   "execution_count": 22,
   "metadata": {},
   "outputs": [
    {
     "name": "stderr",
     "output_type": "stream",
     "text": [
      "C:\\ProgramData\\Anaconda3\\lib\\site-packages\\h5py\\__init__.py:36: FutureWarning: Conversion of the second argument of issubdtype from `float` to `np.floating` is deprecated. In future, it will be treated as `np.float64 == np.dtype(float).type`.\n",
      "  from ._conv import register_converters as _register_converters\n",
      "Using TensorFlow backend.\n"
     ]
    },
    {
     "name": "stdout",
     "output_type": "stream",
     "text": [
      "Epoch 1/2\n",
      "690/690 [==============================] - 1s 1ms/step - loss: 0.4539 - acc: 0.9696\n",
      "Epoch 2/2\n",
      "690/690 [==============================] - 0s 641us/step - loss: 0.1728 - acc: 0.9696\n"
     ]
    },
    {
     "data": {
      "text/plain": [
       "<keras.callbacks.History at 0x270934e87b8>"
      ]
     },
     "execution_count": 22,
     "metadata": {},
     "output_type": "execute_result"
    }
   ],
   "source": [
    "from sklearn.preprocessing import StandardScaler\n",
    "sc = StandardScaler()\n",
    "customers = sc.fit_transform(customers)\n",
    "#\n",
    "from keras.models import Sequential # ağı initilize etmek için gerekli\n",
    "from keras.layers import Dense # katmanlar için gerekli\n",
    "\n",
    "classifier = Sequential()\n",
    "classifier.add(Dense(activation = \"relu\", input_dim = 15, units = 2, kernel_initializer = \"uniform\"))\n",
    "classifier.add(Dense(activation = \"sigmoid\", units = 1, kernel_initializer = \"uniform\"))\n",
    "classifier.compile(optimizer = \"adam\", loss = \"binary_crossentropy\", metrics = [\"accuracy\"])\n",
    "classifier.fit(customers, is_fraud, batch_size = 1, epochs = 2)\n",
    "# veri seti çok basit olduğu için çok basit bir ann kuruyoruz, featureler arasındaki ilişkiyi çözmesi zor değil\n",
    "# nasılsa az verimiz var yani"
   ]
  },
  {
   "cell_type": "code",
   "execution_count": 23,
   "metadata": {},
   "outputs": [],
   "source": [
    "y_pred = classifier.predict(customers)\n",
    "# iloc ile bir sütun seçip 2 boyutlu bir dizi yaratmak için 0 yerine 0:1 yazıyoruz\n",
    "# müşteri idleri ile çıkan sonuçlarıyla liste oluşturuyoruz\n",
    "y_pred = np.concatenate((dataset.iloc[:, 0:1].values, y_pred), axis = 1)\n",
    "# sort customers by their probability of cheating\n",
    "y_pred = y_pred[y_pred[:, 1].argsort()]"
   ]
  },
  {
   "cell_type": "code",
   "execution_count": null,
   "metadata": {},
   "outputs": [],
   "source": []
  }
 ],
 "metadata": {
  "kernelspec": {
   "display_name": "Python 3",
   "language": "python",
   "name": "python3"
  },
  "language_info": {
   "codemirror_mode": {
    "name": "ipython",
    "version": 3
   },
   "file_extension": ".py",
   "mimetype": "text/x-python",
   "name": "python",
   "nbconvert_exporter": "python",
   "pygments_lexer": "ipython3",
   "version": "3.6.5"
  }
 },
 "nbformat": 4,
 "nbformat_minor": 2
}
