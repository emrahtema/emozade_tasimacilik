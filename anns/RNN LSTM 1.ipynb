{
 "cells": [
  {
   "cell_type": "markdown",
   "metadata": {},
   "source": [
    "# Recurrent Neural Networks"
   ]
  },
  {
   "cell_type": "code",
   "execution_count": 1,
   "metadata": {},
   "outputs": [],
   "source": [
    "import numpy as np\n",
    "import matplotlib.pyplot as plt\n",
    "import pandas as pd"
   ]
  },
  {
   "cell_type": "code",
   "execution_count": 2,
   "metadata": {},
   "outputs": [
    {
     "name": "stdout",
     "output_type": "stream",
     "text": [
      "[[325.25]\n",
      " [331.27]\n",
      " [329.83]\n",
      " ...\n",
      " [793.7 ]\n",
      " [783.33]\n",
      " [782.75]]\n"
     ]
    }
   ],
   "source": [
    "# Importing the dataset\n",
    "dataset_train = pd.read_csv(\"data/RNN - LSTM/Google_Stock_Price_Train.csv\")\n",
    "# bütün satırlardaki 1:2 sütunlarını al, yani sınıfı aldık böyle for ile tek tek gezmek yerine\n",
    "training_set = dataset_train.iloc[:, 1:2].values\n",
    "print(training_set)"
   ]
  },
  {
   "cell_type": "code",
   "execution_count": 3,
   "metadata": {},
   "outputs": [
    {
     "name": "stdout",
     "output_type": "stream",
     "text": [
      "[0.08581368]\n"
     ]
    }
   ],
   "source": [
    "# Feature scaling\n",
    "from sklearn.preprocessing import MinMaxScaler\n",
    "sc = MinMaxScaler(feature_range = (0, 1))\n",
    "training_scaled_set = sc.fit_transform(training_set)\n",
    "print(training_scaled_set[0])"
   ]
  },
  {
   "cell_type": "markdown",
   "metadata": {},
   "source": [
    "<b>Creating a datastructure with 60 timesteps and 1 output</b><br>\n",
    "Bu ne demek? Belirlenen timestepsler short term memorynin bir veriyi öğrenirken daha önceki verileri bilgi olarak kullandığı için \"bir önceki kaç veriye bakarak yeni bilgiyi öğreniyim\" sorusunun cevabıdır. Yani burada 60 timesteps yaptığımız için ağa bir önceki 60 veriye dayanarak kendini eğit diyoruz. Eğer bu sayıyı fazla verirsek overfitting olur, az verirsek kötü bir ağ olur. İdeal sayıyı belirleyebilmek lazımdır. 1 outputun sebebi de şu, veri setimizdeki bilgilere baktığımızda verilerde tarih var, zamana göre değişimler gerçekleşiyor ve biz daha önceki değişimlere bakarak gelecek veriler(test verisi) hakkında tahminde bulunacak bir ağ oluşturacağız. Ağa dediğimiz şey ise şu \"bir önceki 60 veriye dayanarak 1 sonuç verecek şekilde programlan\", buna göre 60 günlük değişim göz önüne alınarak gelecek günlerdeki sonuçlar tahmin edilebilir.<br><br>\n",
    "Şimdi kodlarla yapacağımız şey ise bunu ağa uygun hale getirmek. Train verimize 60 günlük verileri tek bir veriymiş gibi ekleyeceğiz ve sınıf olarak 61. günün trendini ekleyeceğiz. Bütün verileri böyle eklediğimiz zaman 60 günün sonrasında olabilecek trendi tahmin edebilen bir ağ oluşacaktır. Kıpkısaca stok pricenin Open isimli sütunlarının verilerini aldık ve zamana göre değişimleri bir anlam ifade edecek şekilde 60 günlük Open verilerini sıraya dizip veri olarak alıp 61. gündeki Open verisini tahmin edeceğiz. Ağ 60 günlük değişimlerin 61. güne etkisini tahmin edebilecek."
   ]
  },
  {
   "cell_type": "code",
   "execution_count": 14,
   "metadata": {},
   "outputs": [
    {
     "name": "stdout",
     "output_type": "stream",
     "text": [
      "[0.08581368 0.09701243 0.09433366 0.09156187 0.07984225 0.0643277\n",
      " 0.0585423  0.06568569 0.06109085 0.06639259 0.0614257  0.07474514\n",
      " 0.02797827 0.02379269 0.02409033 0.0159238  0.01078949 0.00967334\n",
      " 0.01642607 0.02100231 0.02280676 0.02273235 0.02810849 0.03212665\n",
      " 0.0433812  0.04475779 0.04790163 0.0440695  0.04648783 0.04745517\n",
      " 0.04873875 0.03936305 0.04137213 0.04034898 0.04784582 0.04325099\n",
      " 0.04356723 0.04286033 0.04602277 0.05398467 0.05738894 0.05714711\n",
      " 0.05569611 0.04421832 0.04514845 0.04605997 0.04412531 0.03675869\n",
      " 0.04486941 0.05065481 0.05214302 0.05612397 0.05818885 0.06540665\n",
      " 0.06882953 0.07243843 0.07993526 0.07846566 0.08034452 0.08497656] [0.08627874]\n"
     ]
    }
   ],
   "source": [
    "X_train = []\n",
    "Y_train = []\n",
    "for i in range(60, len(training_set)):\n",
    "    X_train.append(training_scaled_set[i-60 : i, 0])\n",
    "    Y_train.append(training_scaled_set[i])\n",
    "    # her bir veri [] liste içinde olduğundan ,0 koymak onları listeden çıkartıp bir veri olarak ekleyecektir\n",
    "X_train, Y_train = np.array(X_train), np.array(Y_train)\n",
    "print(X_train[0], Y_train[0])"
   ]
  },
  {
   "cell_type": "code",
   "execution_count": 15,
   "metadata": {},
   "outputs": [
    {
     "name": "stdout",
     "output_type": "stream",
     "text": [
      "1198 60\n"
     ]
    }
   ],
   "source": [
    "# Reshaping, RNN anlayacağı şekle sokuyoruz\n",
    "# (X_train, (numOfOpenStockPrice, timesteps, numberOfIndıcators(predictors-features)))\n",
    "print(X_train.shape[0], X_train.shape[1])\n",
    "X_train = np.reshape(X_train, (X_train.shape[0], X_train.shape[1], 1))"
   ]
  },
  {
   "cell_type": "markdown",
   "metadata": {},
   "source": [
    "### Building the RNN"
   ]
  },
  {
   "cell_type": "code",
   "execution_count": 16,
   "metadata": {},
   "outputs": [
    {
     "name": "stderr",
     "output_type": "stream",
     "text": [
      "C:\\ProgramData\\Anaconda3\\lib\\site-packages\\h5py\\__init__.py:36: FutureWarning: Conversion of the second argument of issubdtype from `float` to `np.floating` is deprecated. In future, it will be treated as `np.float64 == np.dtype(float).type`.\n",
      "  from ._conv import register_converters as _register_converters\n",
      "Using TensorFlow backend.\n"
     ]
    }
   ],
   "source": [
    "from keras.models import Sequential\n",
    "from keras.layers import Dense\n",
    "from keras.layers import LSTM\n",
    "from keras.layers import Dropout"
   ]
  },
  {
   "cell_type": "code",
   "execution_count": 26,
   "metadata": {},
   "outputs": [],
   "source": [
    "# Initilazing the RNN - stacked LSTM\n",
    "# continuous, devam eden değerlere göre output tahmin edceğimiz için öylesine regressor dedik\n",
    "regressor = Sequential()"
   ]
  },
  {
   "cell_type": "markdown",
   "metadata": {},
   "source": [
    "units = lstm memory üniteleri, yani nöronlar. Bir kaç lstm katmanından oluşan derin bir ağ yapacağız, ancak units sayısını yüksek tutarak bunu daha da derinleştirmemiz mümkün olacaktır. Stock price gibi komplex bir veri için iyi bir derinlik ve çok sayıda nörona ihtiyacımız olacaktır. 50 olarak seçiyoruz ki yüksek derinliğe ulaşabilelim. Eğer sayıyı düşük tutarsak yükselen ve düşen trendleri doğru tahmin etmek çok zorlaşacaktır.<br>\n",
    "return_sequences default olarak False bir değerdir ve bu lstm katmanından sonra bir lstm katmanı olmayacağı anlamına gelir. Ancak biz birkaç tane lstm katmanı oluşturacağımızdan, kendisinden sonra lstm katmanı gelecek katmanlara bu değeri True olarak veriyoruz.<br>\n"
   ]
  },
  {
   "cell_type": "code",
   "execution_count": 27,
   "metadata": {},
   "outputs": [],
   "source": [
    "# adding lstm layer\n",
    "regressor.add(LSTM(units = 50, return_sequences = True, input_shape = (X_train.shape[1], 1)))\n",
    "# adding dropout regularization, overfittingi engellemek için\n",
    "# 0.2 = %20 of the neurons will be ignored during the forward and back propagation\n",
    "regressor.add(Dropout(0.2))"
   ]
  },
  {
   "cell_type": "code",
   "execution_count": 28,
   "metadata": {},
   "outputs": [],
   "source": [
    "regressor.add(LSTM(units = 50, return_sequences = True))\n",
    "regressor.add(Dropout(0.2))\n",
    "\n",
    "regressor.add(LSTM(units = 50, return_sequences = True))\n",
    "regressor.add(Dropout(0.2))\n",
    "\n",
    "regressor.add(LSTM(units = 50))\n",
    "regressor.add(Dropout(0.2))\n",
    "\n",
    "regressor.add(Dense(units = 1))"
   ]
  },
  {
   "cell_type": "markdown",
   "metadata": {},
   "source": [
    "RMSprop genelde rnn de kullanılan iyi sonuç veren bir optimizer ama adam kullanıyoruz.<br>\n",
    "Başka algoritmalar keras.documentationda bulunabilir TFOptimizer, Nadam felan.<br>\n",
    "loss fonksiyonu olarak mean_squared_error kullanyoruz çünkü artık sınıflandırma yapmıyoruz regresyon işlemi yapıyoruz crosentropy kullanmak olmaz."
   ]
  },
  {
   "cell_type": "code",
   "execution_count": 29,
   "metadata": {},
   "outputs": [],
   "source": [
    "# compiling the rnn\n",
    "regressor.compile(optimizer = \"adam\", loss = \"mean_squared_error\")"
   ]
  },
  {
   "cell_type": "markdown",
   "metadata": {},
   "source": [
    "Bu sayıda veri için bu epoch sayısı iyi sonuç vermiştir. 25, 50 de denenebilir ancak bunun kadar iyi vermez. Batch size de 32 uygun görüşmüştür, her 32 verilik kümelerle eğitim yapıp loss fonksiyonuna göre back propagation yapılıp ağırlıklar güncelleniyor."
   ]
  },
  {
   "cell_type": "code",
   "execution_count": 30,
   "metadata": {},
   "outputs": [
    {
     "name": "stdout",
     "output_type": "stream",
     "text": [
      "Epoch 1/100\n",
      "1198/1198 [==============================] - 6s 5ms/step - loss: 0.0471\n",
      "Epoch 2/100\n",
      "1198/1198 [==============================] - 3s 3ms/step - loss: 0.0063\n",
      "Epoch 3/100\n",
      "1198/1198 [==============================] - 3s 3ms/step - loss: 0.0053\n",
      "Epoch 4/100\n",
      "1198/1198 [==============================] - 3s 3ms/step - loss: 0.0047\n",
      "Epoch 5/100\n",
      "1198/1198 [==============================] - 3s 3ms/step - loss: 0.0045\n",
      "Epoch 6/100\n",
      "1198/1198 [==============================] - 3s 3ms/step - loss: 0.0047\n",
      "Epoch 7/100\n",
      "1198/1198 [==============================] - 3s 3ms/step - loss: 0.0049\n",
      "Epoch 8/100\n",
      "1198/1198 [==============================] - 3s 3ms/step - loss: 0.0041\n",
      "Epoch 9/100\n",
      "1198/1198 [==============================] - 4s 3ms/step - loss: 0.0042\n",
      "Epoch 10/100\n",
      "1198/1198 [==============================] - 4s 3ms/step - loss: 0.0043\n",
      "Epoch 11/100\n",
      "1198/1198 [==============================] - 4s 3ms/step - loss: 0.0043\n",
      "Epoch 12/100\n",
      "1198/1198 [==============================] - 4s 3ms/step - loss: 0.0038\n",
      "Epoch 13/100\n",
      "1198/1198 [==============================] - 4s 3ms/step - loss: 0.0040\n",
      "Epoch 14/100\n",
      "1198/1198 [==============================] - 3s 3ms/step - loss: 0.0039\n",
      "Epoch 15/100\n",
      "1198/1198 [==============================] - 4s 3ms/step - loss: 0.0036\n",
      "Epoch 16/100\n",
      "1198/1198 [==============================] - 4s 3ms/step - loss: 0.0038\n",
      "Epoch 17/100\n",
      "1198/1198 [==============================] - 4s 3ms/step - loss: 0.0038\n",
      "Epoch 18/100\n",
      "1198/1198 [==============================] - 4s 3ms/step - loss: 0.0035\n",
      "Epoch 19/100\n",
      "1198/1198 [==============================] - 4s 3ms/step - loss: 0.0033\n",
      "Epoch 20/100\n",
      "1198/1198 [==============================] - 4s 3ms/step - loss: 0.0031\n",
      "Epoch 21/100\n",
      "1198/1198 [==============================] - 4s 3ms/step - loss: 0.0032\n",
      "Epoch 22/100\n",
      "1198/1198 [==============================] - 4s 3ms/step - loss: 0.0033\n",
      "Epoch 23/100\n",
      "1198/1198 [==============================] - 4s 3ms/step - loss: 0.0032\n",
      "Epoch 24/100\n",
      "1198/1198 [==============================] - 4s 3ms/step - loss: 0.0032\n",
      "Epoch 25/100\n",
      "1198/1198 [==============================] - 4s 3ms/step - loss: 0.0030\n",
      "Epoch 26/100\n",
      "1198/1198 [==============================] - 4s 3ms/step - loss: 0.0031\n",
      "Epoch 27/100\n",
      "1198/1198 [==============================] - 4s 3ms/step - loss: 0.0028\n",
      "Epoch 28/100\n",
      "1198/1198 [==============================] - 4s 3ms/step - loss: 0.0033\n",
      "Epoch 29/100\n",
      "1198/1198 [==============================] - 4s 4ms/step - loss: 0.0032\n",
      "Epoch 30/100\n",
      "1198/1198 [==============================] - 4s 3ms/step - loss: 0.0033\n",
      "Epoch 31/100\n",
      "1198/1198 [==============================] - 4s 3ms/step - loss: 0.0035\n",
      "Epoch 32/100\n",
      "1198/1198 [==============================] - 4s 3ms/step - loss: 0.0030\n",
      "Epoch 33/100\n",
      "1198/1198 [==============================] - 4s 3ms/step - loss: 0.0026\n",
      "Epoch 34/100\n",
      "1198/1198 [==============================] - 4s 3ms/step - loss: 0.0031\n",
      "Epoch 35/100\n",
      "1198/1198 [==============================] - 4s 3ms/step - loss: 0.0032\n",
      "Epoch 36/100\n",
      "1198/1198 [==============================] - 4s 3ms/step - loss: 0.0024\n",
      "Epoch 37/100\n",
      "1198/1198 [==============================] - 4s 3ms/step - loss: 0.0026\n",
      "Epoch 38/100\n",
      "1198/1198 [==============================] - 3s 3ms/step - loss: 0.0027\n",
      "Epoch 39/100\n",
      "1198/1198 [==============================] - 3s 3ms/step - loss: 0.0031\n",
      "Epoch 40/100\n",
      "1198/1198 [==============================] - 3s 3ms/step - loss: 0.0026\n",
      "Epoch 41/100\n",
      "1198/1198 [==============================] - 3s 3ms/step - loss: 0.0027\n",
      "Epoch 42/100\n",
      "1198/1198 [==============================] - 3s 3ms/step - loss: 0.0024\n",
      "Epoch 43/100\n",
      "1198/1198 [==============================] - 3s 3ms/step - loss: 0.0027\n",
      "Epoch 44/100\n",
      "1198/1198 [==============================] - 3s 3ms/step - loss: 0.0029\n",
      "Epoch 45/100\n",
      "1198/1198 [==============================] - 3s 3ms/step - loss: 0.0025\n",
      "Epoch 46/100\n",
      "1198/1198 [==============================] - 3s 3ms/step - loss: 0.0025\n",
      "Epoch 47/100\n",
      "1198/1198 [==============================] - 3s 3ms/step - loss: 0.0024\n",
      "Epoch 48/100\n",
      "1198/1198 [==============================] - 3s 3ms/step - loss: 0.0031\n",
      "Epoch 49/100\n",
      "1198/1198 [==============================] - 3s 3ms/step - loss: 0.0026\n",
      "Epoch 50/100\n",
      "1198/1198 [==============================] - 3s 3ms/step - loss: 0.0023\n",
      "Epoch 51/100\n",
      "1198/1198 [==============================] - 3s 3ms/step - loss: 0.0023\n",
      "Epoch 52/100\n",
      "1198/1198 [==============================] - 3s 3ms/step - loss: 0.0023\n",
      "Epoch 53/100\n",
      "1198/1198 [==============================] - 3s 3ms/step - loss: 0.0021\n",
      "Epoch 54/100\n",
      "1198/1198 [==============================] - 3s 3ms/step - loss: 0.0023\n",
      "Epoch 55/100\n",
      "1198/1198 [==============================] - 3s 3ms/step - loss: 0.0022\n",
      "Epoch 56/100\n",
      "1198/1198 [==============================] - 3s 3ms/step - loss: 0.0023\n",
      "Epoch 57/100\n",
      "1198/1198 [==============================] - 3s 3ms/step - loss: 0.0027\n",
      "Epoch 58/100\n",
      "1198/1198 [==============================] - 3s 3ms/step - loss: 0.0022\n",
      "Epoch 59/100\n",
      "1198/1198 [==============================] - 3s 3ms/step - loss: 0.0020\n",
      "Epoch 60/100\n",
      "1198/1198 [==============================] - 3s 3ms/step - loss: 0.0021\n",
      "Epoch 61/100\n",
      "1198/1198 [==============================] - 3s 3ms/step - loss: 0.0021\n",
      "Epoch 62/100\n",
      "1198/1198 [==============================] - 3s 3ms/step - loss: 0.0025\n",
      "Epoch 63/100\n",
      "1198/1198 [==============================] - 3s 3ms/step - loss: 0.0021\n",
      "Epoch 64/100\n",
      "1198/1198 [==============================] - 3s 3ms/step - loss: 0.0018\n",
      "Epoch 65/100\n",
      "1198/1198 [==============================] - 3s 3ms/step - loss: 0.0022A: 0s - loss: 0.\n",
      "Epoch 66/100\n",
      "1198/1198 [==============================] - 3s 3ms/step - loss: 0.0020\n",
      "Epoch 67/100\n",
      "1198/1198 [==============================] - 3s 3ms/step - loss: 0.0022\n",
      "Epoch 68/100\n",
      "1198/1198 [==============================] - 3s 3ms/step - loss: 0.0019\n",
      "Epoch 69/100\n",
      "1198/1198 [==============================] - 4s 3ms/step - loss: 0.0021\n",
      "Epoch 70/100\n",
      "1198/1198 [==============================] - 4s 3ms/step - loss: 0.0020\n",
      "Epoch 71/100\n",
      "1198/1198 [==============================] - 4s 3ms/step - loss: 0.0020\n",
      "Epoch 72/100\n",
      "1198/1198 [==============================] - 4s 3ms/step - loss: 0.0021\n",
      "Epoch 73/100\n",
      "1198/1198 [==============================] - 4s 3ms/step - loss: 0.0020\n",
      "Epoch 74/100\n",
      "1198/1198 [==============================] - 4s 3ms/step - loss: 0.0017\n",
      "Epoch 75/100\n",
      "1198/1198 [==============================] - 4s 3ms/step - loss: 0.0019\n",
      "Epoch 76/100\n",
      "1198/1198 [==============================] - 4s 3ms/step - loss: 0.0019\n",
      "Epoch 77/100\n",
      "1198/1198 [==============================] - 4s 3ms/step - loss: 0.0018\n",
      "Epoch 78/100\n",
      "1198/1198 [==============================] - 4s 3ms/step - loss: 0.0018A: 0s - loss: 0.00\n",
      "Epoch 79/100\n",
      "1198/1198 [==============================] - 4s 3ms/step - loss: 0.0015\n",
      "Epoch 80/100\n",
      "1198/1198 [==============================] - 4s 3ms/step - loss: 0.0017\n",
      "Epoch 81/100\n",
      "1198/1198 [==============================] - 4s 3ms/step - loss: 0.0016\n",
      "Epoch 82/100\n",
      "1198/1198 [==============================] - 4s 3ms/step - loss: 0.0016\n",
      "Epoch 83/100\n",
      "1198/1198 [==============================] - 4s 3ms/step - loss: 0.0017\n",
      "Epoch 84/100\n",
      "1198/1198 [==============================] - 4s 3ms/step - loss: 0.0016\n",
      "Epoch 85/100\n",
      "1198/1198 [==============================] - 4s 3ms/step - loss: 0.0017\n",
      "Epoch 86/100\n",
      "1198/1198 [==============================] - 4s 3ms/step - loss: 0.0016\n",
      "Epoch 87/100\n",
      "1198/1198 [==============================] - 4s 3ms/step - loss: 0.0017\n",
      "Epoch 88/100\n",
      "1198/1198 [==============================] - 4s 3ms/step - loss: 0.0016\n",
      "Epoch 89/100\n",
      "1198/1198 [==============================] - 4s 3ms/step - loss: 0.0016\n",
      "Epoch 90/100\n",
      "1198/1198 [==============================] - 4s 3ms/step - loss: 0.0015\n",
      "Epoch 91/100\n",
      "1198/1198 [==============================] - 4s 3ms/step - loss: 0.0016\n",
      "Epoch 92/100\n",
      "1198/1198 [==============================] - 4s 3ms/step - loss: 0.0014\n",
      "Epoch 93/100\n",
      "1198/1198 [==============================] - 4s 3ms/step - loss: 0.0016\n",
      "Epoch 94/100\n",
      "1198/1198 [==============================] - 4s 3ms/step - loss: 0.0016\n",
      "Epoch 95/100\n",
      "1198/1198 [==============================] - 4s 3ms/step - loss: 0.0016\n",
      "Epoch 96/100\n",
      "1198/1198 [==============================] - 4s 3ms/step - loss: 0.0015\n",
      "Epoch 97/100\n"
     ]
    },
    {
     "name": "stdout",
     "output_type": "stream",
     "text": [
      "1198/1198 [==============================] - 4s 3ms/step - loss: 0.0018\n",
      "Epoch 98/100\n",
      "1198/1198 [==============================] - 4s 3ms/step - loss: 0.0015\n",
      "Epoch 99/100\n",
      "1198/1198 [==============================] - 4s 3ms/step - loss: 0.0015\n",
      "Epoch 100/100\n",
      "1198/1198 [==============================] - 4s 3ms/step - loss: 0.0015\n"
     ]
    },
    {
     "data": {
      "text/plain": [
       "<keras.callbacks.History at 0x2e1f0630eb8>"
      ]
     },
     "execution_count": 30,
     "metadata": {},
     "output_type": "execute_result"
    }
   ],
   "source": [
    "regressor.fit(X_train, Y_train, epochs = 100, batch_size = 32)"
   ]
  },
  {
   "cell_type": "markdown",
   "metadata": {},
   "source": [
    "### Making Predictions and Visualising the Results"
   ]
  },
  {
   "cell_type": "code",
   "execution_count": 45,
   "metadata": {},
   "outputs": [],
   "source": [
    "# Getting the stockprice of 2017 (20 taneler)\n",
    "dataset_test = pd.read_csv(\"data/RNN - LSTM/Google_Stock_Price_Test.csv\")\n",
    "real_stock_price = dataset_test.iloc[:, 1:2].values"
   ]
  },
  {
   "cell_type": "markdown",
   "metadata": {},
   "source": [
    "Test set, aslında train setin devamı olan verilerden oluşuyor. Yani test setteki ilk veriyi tahmin edebilmek için, kendisinden önceki 60 veriyi almamız lazım ki ilk test verisinden önceki 60 veri, train setindeki son 60 veridir. Böylece test verisini 20 sıralı bir veri olacak şekilde traindeki verilerle birleştirmemiz gerekiyor. Training_Set'i normalize etmiştik ama test seti normalize etmemiştik, biz şimdi test ve train verilerini birleştirerek test verileri oluşturacağız ve bu yüzden bu test verisini de normalize etmemiz gerekecek ancak bu durumda çıkması gereken sonuçlar da normalize edilmiş olacak bu yüzden normalize edilmiş çıktıları tekrar eski hallerine döndürmemiz gerekecek. Ve tabiki görsellik katıp karşılaştırma yapmak adına orjinal test verisini saklamamız, değiştirmememiz gerekiyor."
   ]
  },
  {
   "cell_type": "code",
   "execution_count": 48,
   "metadata": {},
   "outputs": [
    {
     "name": "stdout",
     "output_type": "stream",
     "text": [
      "325.25  <->  778.81  <->  0    325.25\n",
      "0    778.81\n",
      "Name: Open, dtype: float64\n",
      "1258  <->  20  <->  1278\n"
     ]
    }
   ],
   "source": [
    "# train ve testten genel bir veri oluşturuyoruz \"Open\" sütun ismi\n",
    "dataset_total = pd.concat((dataset_train[\"Open\"], dataset_test[\"Open\"]), axis = 0)\n",
    "print(dataset_train[\"Open\"][0], \" <-> \", dataset_test[\"Open\"][0], \" <-> \", dataset_total[0])\n",
    "print(len(dataset_train), \" <-> \", len(dataset_test), \" <-> \", len(dataset_total))"
   ]
  },
  {
   "cell_type": "code",
   "execution_count": 49,
   "metadata": {},
   "outputs": [
    {
     "name": "stdout",
     "output_type": "stream",
     "text": [
      "[779.   779.66]\n",
      "[[779.  ]\n",
      " [779.66]]\n",
      "[[0.9299055 ]\n",
      " [0.93113327]]\n"
     ]
    }
   ],
   "source": [
    "inputs = dataset_total[len(dataset_total) - len(dataset_test) - 60:].values\n",
    "print(inputs[:2])\n",
    "\n",
    "inputs = inputs.reshape(-1, 1)\n",
    "print(inputs[:2])\n",
    "\n",
    "inputs = sc.transform(inputs)\n",
    "print(inputs[:2])"
   ]
  },
  {
   "cell_type": "code",
   "execution_count": 51,
   "metadata": {},
   "outputs": [],
   "source": [
    "X_test = []\n",
    "for i in range(60, len(inputs)):\n",
    "    X_test.append(inputs[i-60 : i, 0])\n",
    "X_test = np.array(X_test)\n",
    "X_test = np.reshape(X_test, (X_test.shape[0], X_test.shape[1], 1))"
   ]
  },
  {
   "cell_type": "code",
   "execution_count": 53,
   "metadata": {},
   "outputs": [
    {
     "name": "stdout",
     "output_type": "stream",
     "text": [
      "[[0.9111153 ]\n",
      " [0.9067572 ]\n",
      " [0.90572494]\n",
      " [0.9072496 ]\n",
      " [0.9123984 ]]\n",
      "[[768.8991 ]\n",
      " [766.5564 ]\n",
      " [766.0015 ]\n",
      " [766.8211 ]\n",
      " [769.58887]]\n"
     ]
    }
   ],
   "source": [
    "predicted_stock_prices = regressor.predict(X_test)\n",
    "# normalize halde tahmin edilmiş sonuçları tersine çeviriyoruz yani normalize->to->real shape\n",
    "print(predicted_stock_prices[0:5])\n",
    "predicted_stock_prices = sc.inverse_transform(predicted_stock_prices)\n",
    "print(predicted_stock_prices[0:5])"
   ]
  },
  {
   "cell_type": "markdown",
   "metadata": {},
   "source": [
    "### Visualizing the Results"
   ]
  },
  {
   "cell_type": "code",
   "execution_count": 57,
   "metadata": {},
   "outputs": [
    {
     "data": {
      "image/png": "[encoded data removed]",
      "text/plain": [
       "<Figure size 432x288 with 1 Axes>"
      ]
     },
     "metadata": {},
     "output_type": "display_data"
    }
   ],
   "source": [
    "# plotting the real stock prices\n",
    "plt.plot(real_stock_price, color = \"red\", label = \"Real Google Stock Price\")\n",
    "\n",
    "# plotting the predicted stock prices\n",
    "plt.plot(predicted_stock_prices, color = \"blue\", label = \"Predicted Stock Price\")\n",
    "\n",
    "plt.title(\"Google Stock Price Prediction\")\n",
    "plt.xlabel(\"Time\")\n",
    "plt.ylabel(\"Stock Price\")\n",
    "plt.legend() # sol üstteki renklerin temsil ettiği bilgiler\n",
    "plt.show()"
   ]
  },
  {
   "cell_type": "markdown",
   "metadata": {},
   "source": [
    "Görüldüğü gibi yükselen ve düşen trendler yeteri kadar iyi bir şekilde tespit edilebiliyor, sadece bazı dik iniş çıkışlar tam olarak tahmin edilememiş ancak sonuçları yine yakın ve iyi değerlerde."
   ]
  },
  {
   "cell_type": "markdown",
   "metadata": {},
   "source": [
    "### Evaluating the RNN"
   ]
  },
  {
   "cell_type": "markdown",
   "metadata": {},
   "source": [
    "For Regression, the way to evaluate the model performance is with a metric called RMSE (Root Mean Squared Error). It is calculated as the root of the mean of the squared differences between the predictions and the real values.<br>\n",
    "\n",
    "However for our specific Stock Price Prediction problem, evaluating the model with the RMSE does not make much sense, since we are more interested in the directions taken by our predictions, rather than the closeness of their values to the real stock price. We want to check if our predictions follow the same directions as the real stock price and we don’t really care whether our predictions are close the real stock price. The predictions could indeed be close but often taking the opposite direction from the real stock price."
   ]
  },
  {
   "cell_type": "code",
   "execution_count": 60,
   "metadata": {},
   "outputs": [
    {
     "name": "stdout",
     "output_type": "stream",
     "text": [
      "27.052722576142806\n"
     ]
    }
   ],
   "source": [
    "import math\n",
    "from sklearn.metrics import mean_squared_error\n",
    "rmse = math.sqrt(mean_squared_error(real_stock_price, predicted_stock_prices))\n",
    "print(rmse)"
   ]
  },
  {
   "cell_type": "markdown",
   "metadata": {},
   "source": [
    "Then consider dividing this RMSE by the range of the Google Stock Price values of January 2017 (that is around 800) to get a relative error, as opposed to an absolute error. It is more relevant since for example if you get an RMSE of 50, then this error would be very big if the stock price values ranged around 100, but it would be very small if the stock price values ranged around 10000."
   ]
  },
  {
   "cell_type": "markdown",
   "metadata": {},
   "source": [
    "<b>here are different ways to improve the RNN model:</b><br>\n",
    "\n",
    "-Getting more training data: we trained our model on the past 5 years of the Google Stock Price but it would be even better to train it on the past 10 years.<br>\n",
    "-Increasing the number of timesteps: the model remembered the stock prices from the 60 previous financial days to predict the stock price of the next day. That’s because we chose a number of 60 timesteps (3 months). You could try to increase the number of timesteps, by choosing for example 120 timesteps (6 months).<br>\n",
    "-Adding some other indicators: if you have the financial instinct that the stock price of some other companies might be correlated to the one of Google, you could add this other stock price as a new indicator in the training data.<br>\n",
    "-Adding more LSTM layers: we built a RNN with four LSTM layers but you could try with even more.<br>\n",
    "-Adding more neurones in the LSTM layers: we highlighted the fact that we needed a high number of neurones in the LSTM layers to respond better to the complexity of the problem and we chose to include 50 neurones in each of our 4 LSTM layers. You could try an architecture with even more neurones in each of the 4 (or more) LSTM layers."
   ]
  },
  {
   "cell_type": "markdown",
   "metadata": {},
   "source": [
    "<b>Tunning the RNN</b><br>\n",
    "Remember, this time we are dealing with a Regression problem because we predict a continuous outcome (the Google Stock Price).<br>\n",
    "Parameter Tuning for Regression is the same as Parameter Tuning for Classification which you learned in Part 1 - Artificial Neural Networks, the only difference is that you have to replace:<br>\n",
    "\n",
    "scoring = 'accuracy'  <br>\n",
    "\n",
    "by:<br>\n",
    "\n",
    "scoring = 'neg_mean_squared_error' <br>\n",
    "\n",
    "in the GridSearchCV class parameters."
   ]
  }
 ],
 "metadata": {
  "kernelspec": {
   "display_name": "Python 3",
   "language": "python",
   "name": "python3"
  },
  "language_info": {
   "codemirror_mode": {
    "name": "ipython",
    "version": 3
   },
   "file_extension": ".py",
   "mimetype": "text/x-python",
   "name": "python",
   "nbconvert_exporter": "python",
   "pygments_lexer": "ipython3",
   "version": "3.6.5"
  }
 },
 "nbformat": 4,
 "nbformat_minor": 2
}
