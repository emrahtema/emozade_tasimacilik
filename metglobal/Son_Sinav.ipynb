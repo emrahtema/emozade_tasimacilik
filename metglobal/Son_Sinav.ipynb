{
 "cells": [
  {
   "cell_type": "code",
   "execution_count": 112,
   "metadata": {},
   "outputs": [],
   "source": [
    "import requests\n",
    "from typing import Callable, Generator\n",
    "\n",
    "def error_handler(func: Callable) -> Callable:\n",
    "    def wrapper(*args, **kwargs) -> dict:\n",
    "        results=None\n",
    "        response = func(*args, **kwargs)\n",
    "        if response.ok:\n",
    "            response = response.json()\n",
    "            results = response.get('results')\n",
    "        return results\n",
    "    return wrapper\n",
    "\n",
    "def converter(func:Callable) -> Callable:\n",
    "    def wrapper(*args, **kwargs) -> dict:\n",
    "        response = func(*args, **kwargs)\n",
    "        return list(response)\n",
    "    return wrapper\n",
    "\n",
    "class RequestData:\n",
    "    \"\"\"\n",
    "        RequestData\n",
    "    \"\"\"\n",
    "    BASE_URL = 'https://randomuser.me/api/'\n",
    "\n",
    "    def __init__(self, count:str, *args, **kwargs):\n",
    "        self.url = self.BASE_URL + '?results={}'.format(count)\n",
    "  \n",
    "    @error_handler\n",
    "    def _make_request(self):\n",
    "        response = requests.get(self.url)\n",
    "        return response\n",
    "\n",
    "    @converter\n",
    "    def get_location(self):\n",
    "        results = self._make_request()\n",
    "        for item in results:\n",
    "            yield item.get('location')\n",
    "\n",
    "    @converter\n",
    "    def get_login(self):\n",
    "        results = self._make_request()\n",
    "        for item in results:\n",
    "            yield item.get('login')\n"
   ]
  },
  {
   "cell_type": "markdown",
   "metadata": {},
   "source": [
    "### 1. Soru\n",
    "\n",
    "ResuestData sınıfı BASE_URL'de belirtilen, istek gönderildiği taktirde rasgele üye bilgileri oluşturup, oluşturulan üyelerin üyelik bilgilerini json formatında döndüren bir API'yi kullanmak amacıyla oluşturulmuştur. \n",
    "\n",
    "__init__():<br>\n",
    "Sınıftan nesne oluşturulduğunda bizden string formatında bir count bilgisi istemektedir. Bu count bilgisi zorunludur ve API'den kaç tane random user oluşturmasını istiyorsak o sayıyı ifade etmektedir. Örneğin rd=RequestData(\"10\") dediğimizde 10 rasgele kullanıcı için istek gönderebilen bir nesne oluşturuyoruz.\n",
    "\n",
    "_make_request():<br>\n",
    "error_handler dekoratörü ile dekore edilen bir methoddur. Api'ye istek gönderip cevap alır. Yukarıdaki nesnenin devamı olarak rd._make_request() dediğimizde 10 tane rasgele üyenin bilgilerini döndürecektir. error_handler dekoratörünü 2. soruda cevapladığım için burada ikisinin birlikte çalışmasını açıklamıyorum.\n",
    "\n",
    "get_location():<br>\n",
    "converter dekoratörü ile dekore edilmiştir. _make_request() metodunu çağırarak rasgele üye bilgilerini alır ve bu üyelerin location bilgilerini generator olarak (yield sayesinde) döndürür. Location bilgisi bir dictionarydir ve içerisinde location detaylarını barındırır. converter ile çalışmasını açıklamıyorum.\n",
    "\n",
    "get_login():<br>\n",
    "converter dekoratörü ile dekore edilmiştir. _make_request() metodunu kullanarak rasgele üye bilgilerini alır ve bu üyelerin login bilgilerini generator halinde (yield sayesnde) döndürür. "
   ]
  },
  {
   "cell_type": "markdown",
   "metadata": {},
   "source": [
    "#### 2. Soru\n",
    "\n",
    "Dekoratörler, dekore ettikleri fonksiyon yada methodları çağırırlar. Çağırım öncesi veya sonrasında yapılması istenilen bir takım özel işlemleri her fonksiyon yada method için tek tek yapmamak için kullanılırlar.\n",
    "\n",
    "error_handler dekoratörü çağırılabilir bir parametre alır ki bu bir fonksiyon yada methoddur. kendisine *list * *dictionary şeklinde gelecek verileri direkt olarak çağırdığı fonksiyona gönderir, ki bu eğer varsa parametre hatası almamak için uygulanmıştır. Randomuser apisini kullanan fonksiyonları çağırmaya uygun olacak şekilde ayarlanmıştır. İçerisinde çağırdığı fonksiyondan gelen sonuç eğer hatasız ise yani 200 döndürüyorsa istek sonucu gelen json formatındaki cevabı bir dictionarye çevirerek ihtiyacımız olan bilgileri içeren \"result\" keyini döndürecek şekilde çalışır. Eğer hata çıkarsa yada sorunlu bir işlem olursa None döndürür.\n",
    "\n",
    "converter dekoratörü çağırılabilir bir parametre alır(fonksiyon yani). kendisine *list * *dictionary olarak gelen verileri direkt çağıracağı fonksiyona gönderir(parametre hatası almamak için) ve bu herhangi bir apiyi çağıracak şekilde oluşturulmuştur. cevap olarak dönen bilgileri bir liste halinde döndürür. dekore edeceği fonksiyonun return formatının yield olduğunu bilen bu dekoratör çağırdığı fonksiyondan response olarak gelen generator'ü list içerisine alacak şekilde tasarlanmıştır, list içerisinde döndürmese de burada bir hata vermiyor tabi."
   ]
  },
  {
   "cell_type": "code",
   "execution_count": 101,
   "metadata": {},
   "outputs": [
    {
     "name": "stdout",
     "output_type": "stream",
     "text": [
      "['whitebird735', 'whitezebra482', 'browncat587', 'heavyswan814', 'bluezebra701', 'whitezebra102', 'tinywolf136', 'brownleopard686', 'tinycat886', 'happymeercat583', 'silverbutterfly746', 'whiteladybug919', 'happytiger354', 'ticklishdog676', 'smallpanda585', 'blackpanda797', 'tinyswan473', 'crazytiger263', 'yellowfish869', 'greenkoala899', 'bigostrich271', 'redladybug959', 'bluelion881', 'crazybear641', 'heavyfrog945', 'greenduck327', 'yellowpanda430', 'bigduck758', 'organicleopard421', 'blackduck412', 'happygorilla506', 'blackmeercat176', 'bigkoala479', 'silverfish912', 'bigcat716', 'beautifulfish629', 'bluebear140', 'tinydog722', 'blackostrich324', 'angrykoala711', 'sadduck692', 'goldenmeercat473', 'organicrabbit700', 'crazyswan928', 'crazygoose468', 'ticklishleopard279', 'tinycat534', 'happytiger339', 'crazyrabbit494', 'heavyladybug344', 'goldenkoala138', 'silverwolf725', 'sadsnake140', 'bigpeacock463', 'organiczebra189', 'happyrabbit187', 'happykoala972', 'goldenfrog646', 'goldenbird161', 'bigladybug907', 'redtiger403', 'blackrabbit477', 'saddog209', 'bigzebra506', 'purplebear597', 'silvercat148', 'bigswan370', 'happyswan664', 'heavyduck491', 'lazymouse663', 'crazygoose710', 'silverostrich465', 'brownzebra101', 'greenbutterfly948', 'greenleopard702', 'lazybird885', 'smallswan595', 'whiteswan487', 'happyswan128', 'sadtiger557', 'goldentiger943', 'blackmeercat432', 'bigmeercat164', 'ticklishcat532', 'blackladybug495', 'greenbutterfly942', 'angrytiger681', 'beautifulbear816', 'beautifulgoose273', 'orangepanda656', 'tinybutterfly866', 'greenfrog649', 'goldenswan251', 'organiccat179', 'crazydog583', 'bigwolf789', 'bluezebra756', 'greenladybug483', 'browncat622', 'brownbutterfly442']\n"
     ]
    }
   ],
   "source": [
    "# 3. soru. 100 tane döndürmesi gerekirken 1 tane döndürüyordu, BASE_URL result değil results olarak düzeltildi\n",
    "rd = RequestData(\"100\")\n",
    "locations100 = rd.get_login()\n",
    "print([i.get(\"username\") for i in locations100]) # böyle yazdırmayınca çıktı çok uzuyor"
   ]
  },
  {
   "cell_type": "code",
   "execution_count": 102,
   "metadata": {},
   "outputs": [
    {
     "name": "stdout",
     "output_type": "stream",
     "text": [
      "['6408 puhinui road', 'havnehagan 6693', 'vækerø terrasse 4578', '8486 grange road', '323 stadsbuitengracht', '7018 dundas rd', '5293 calle de alberto aguilera', '1643 north road', '970 parliament st', '1576 fredrikinkatu', 'schulstraße 66', '9298 stanley way', '1068 rua boa vista ', 'lessingstraße 57', '2332 میدان 7 تیر', '4391 denny street', 'parkstraße 86', '4339 rua são jorge ', '8229 rue barrier', '3001 rua piauí ']\n"
     ]
    }
   ],
   "source": [
    "# 4. soru\n",
    "\n",
    "rd2 = RequestData(\"20\")\n",
    "streets20 =rd2.get_location()\n",
    "print([i.get(\"street\") for i in streets20])"
   ]
  },
  {
   "cell_type": "markdown",
   "metadata": {},
   "source": [
    "#### 5. Soru\n",
    "Aşağıdaki kod bloğu içinde tutorial_talent fonksiyonu çeşitli tiplerde veri alarak çalışmakta ve veriler içerisindeki isim alanlarını ekrana yazdırmaktadır. Bu fonksiyonu refactor ederek optimize edin, varsa hataları düzeltin."
   ]
  },
  {
   "cell_type": "code",
   "execution_count": 103,
   "metadata": {},
   "outputs": [
    {
     "name": "stdout",
     "output_type": "stream",
     "text": [
      "---- data_list_in_dict -----\n",
      "['ahmet']\n",
      " --- data_list_in_tuple -----\n",
      "['mehmet']\n",
      "---- data_list_in_list -----\n",
      "['aysel']\n",
      " --- data_tuple_in_tuple -----\n",
      "['mesut']\n",
      "---- data_tuple_in_list -----\n",
      "['serkan']\n"
     ]
    }
   ],
   "source": [
    "data_list_in_dict = [{\n",
    "    \"name\": \"ahmet\",\n",
    "    \"lastname\": \"yilmaz\"\n",
    "}]\n",
    "\n",
    "data_list_in_tuple = [('name', 'mehmet'), ('lastname', 'yilmaz')]\n",
    "data_list_in_list = [['name', 'aysel'], ['lastname', 'yilmaz']]\n",
    "\n",
    "data_tuple_in_tuple = (('name', 'mesut'), ('lastname', 'oncel'))\n",
    "data_tuple_in_list = (['name', 'serkan'], ['lastname', 'inan'])\n",
    "\n",
    "\n",
    "def tutorial_talent(data) -> list:\n",
    "    data_output = []\n",
    "    for item in data:\n",
    "        if isinstance(item, dict):\n",
    "            data_output.append(item[\"name\"])\n",
    "        else:\n",
    "            if item[0] == 'name':\n",
    "                data_output.append(item[1])\n",
    "    return data_output\n",
    "\n",
    "# eğer veri tipleri tamamen yukarıdakiler gibi aynı sıralamaya ve şekle sahipse aşağıdaki daha iyi olur:\n",
    "def tutorial_talent2(data) -> list:\n",
    "    if isinstance(data[0], dict):\n",
    "        return data[0].get(\"name\")\n",
    "    return data[0][1]\n",
    "\n",
    "\n",
    "print('---- data_list_in_dict -----')\n",
    "print(tutorial_talent(data_list_in_dict))\n",
    "\n",
    "print(' --- data_list_in_tuple -----')\n",
    "print(tutorial_talent(data_list_in_tuple))\n",
    "\n",
    "print('---- data_list_in_list -----')\n",
    "\n",
    "print(tutorial_talent(data_list_in_list))\n",
    "\n",
    "print(' --- data_tuple_in_tuple -----')\n",
    "print(tutorial_talent(data_tuple_in_tuple))\n",
    "\n",
    "print('---- data_tuple_in_list -----')\n",
    "\n",
    "print(tutorial_talent(data_tuple_in_list))"
   ]
  },
  {
   "cell_type": "markdown",
   "metadata": {},
   "source": [
    "#### 6. Soru\n",
    "Aşağıdaki fonksiyonunda bulunan \"try\" blogunu degistirmeden hata mesajlarını \"except\" bloğunda bulunan print komutuyla yazılmasını sağlayın. Except bloğununda sadece gerekli exceptionların yakalanmasını sağladığınızdan emin olun."
   ]
  },
  {
   "cell_type": "code",
   "execution_count": 111,
   "metadata": {},
   "outputs": [
    {
     "name": "stdout",
     "output_type": "stream",
     "text": [
      "Value Error: invalid literal for int() with base 10: '1232a'\n"
     ]
    }
   ],
   "source": [
    "def error_handler():\n",
    "    try:\n",
    "        name = int('1232a')\n",
    "        lastname = ['yilmaz', 'keskin'][3]\n",
    "        other_dict = {\"name\":\"merve\", \"lastname\": \"demir\"}\n",
    "        other_name = other_dict['other_name']\n",
    "        age = 1/0\n",
    "        print('OK!')\n",
    "    except KeyError as e:\n",
    "        print(\"Key Error:\", e)\n",
    "    except IndexError as e:\n",
    "        print(\"Index Error:\", e)\n",
    "    except ZeroDivisionError as e:\n",
    "        print(\"Zero Division Error:\", e)\n",
    "    except ValueError as e:\n",
    "        print(\"Value Error:\", e)\n",
    "    except:\n",
    "        print(\"An unknown error is occured\")\n",
    "\n",
    "error_handler()"
   ]
  },
  {
   "cell_type": "code",
   "execution_count": 113,
   "metadata": {},
   "outputs": [
    {
     "name": "stdout",
     "output_type": "stream",
     "text": [
      "An Error Occured: invalid literal for int() with base 10: '1232a'\n"
     ]
    }
   ],
   "source": [
    "def error_handler():\n",
    "    try:\n",
    "        name = int('1232a')\n",
    "        lastname = ['yilmaz', 'keskin'][3]\n",
    "        other_dict = {\"name\":\"merve\", \"lastname\": \"demir\"}\n",
    "        other_name = other_dict['other_name']\n",
    "        age = 1/0\n",
    "        print('OK!')\n",
    "    except (KeyError, IndexError, ZeroDivisionError, ValueError) as e:\n",
    "        print(\"An Error Occured:\", e)\n",
    "\n",
    "error_handler()"
   ]
  }
 ],
 "metadata": {
  "kernelspec": {
   "display_name": "Python 3",
   "language": "python",
   "name": "python3"
  },
  "language_info": {
   "codemirror_mode": {
    "name": "ipython",
    "version": 3
   },
   "file_extension": ".py",
   "mimetype": "text/x-python",
   "name": "python",
   "nbconvert_exporter": "python",
   "pygments_lexer": "ipython3",
   "version": "3.7.4"
  }
 },
 "nbformat": 4,
 "nbformat_minor": 2
}
