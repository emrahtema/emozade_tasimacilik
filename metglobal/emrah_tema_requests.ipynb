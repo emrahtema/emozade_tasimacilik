{
 "cells": [
  {
   "cell_type": "code",
   "execution_count": 9,
   "metadata": {},
   "outputs": [
    {
     "name": "stderr",
     "output_type": "stream",
     "text": [
      "INFO:root:Request başarılı oldu.\n"
     ]
    },
    {
     "name": "stdout",
     "output_type": "stream",
     "text": [
      "{'title': 'mr', 'first': 'ian', 'last': 'gården', 'username': 'greenbear758', 'password': 'annmarie'}\n"
     ]
    },
    {
     "name": "stderr",
     "output_type": "stream",
     "text": [
      "INFO:root:Request başarılı oldu.\n"
     ]
    },
    {
     "name": "stdout",
     "output_type": "stream",
     "text": [
      "{'title': 'mademoiselle', 'first': 'jeannette', 'last': 'blanchard', 'username': 'smalltiger758', 'password': 'banshee'}\n"
     ]
    },
    {
     "name": "stderr",
     "output_type": "stream",
     "text": [
      "INFO:root:Request başarılı oldu.\n"
     ]
    },
    {
     "name": "stdout",
     "output_type": "stream",
     "text": [
      "{'title': 'mrs', 'first': 'paula', 'last': 'bennett', 'username': 'blackbird556', 'password': 'hellfire'}\n"
     ]
    },
    {
     "name": "stderr",
     "output_type": "stream",
     "text": [
      "INFO:root:Request başarılı oldu.\n"
     ]
    },
    {
     "name": "stdout",
     "output_type": "stream",
     "text": [
      "{'title': 'ms', 'first': 'milja', 'last': 'rantala', 'username': 'heavybutterfly330', 'password': 'norris'}\n"
     ]
    },
    {
     "name": "stderr",
     "output_type": "stream",
     "text": [
      "INFO:root:Request başarılı oldu.\n"
     ]
    },
    {
     "name": "stdout",
     "output_type": "stream",
     "text": [
      "{'title': 'ms', 'first': 'edith', 'last': 'smith', 'username': 'yellowsnake555', 'password': 'connect'}\n"
     ]
    },
    {
     "name": "stderr",
     "output_type": "stream",
     "text": [
      "INFO:root:Request başarılı oldu.\n"
     ]
    },
    {
     "name": "stdout",
     "output_type": "stream",
     "text": [
      "{'title': 'mrs', 'first': 'hilla', 'last': 'jokinen', 'username': 'bluemouse677', 'password': 'silly'}\n"
     ]
    }
   ],
   "source": [
    "import requests\n",
    "import json\n",
    "import logging\n",
    "\n",
    "def client_method(func):\n",
    "    logging.basicConfig(level=logging.INFO)\n",
    "    def wrapper():\n",
    "        response = func()\n",
    "        if response:\n",
    "            logging.info(\"Request başarılı oldu.\")\n",
    "        else:\n",
    "            logging.ERROR(\"Request başarılı oldu.\")\n",
    "        return response\n",
    "    return wrapper\n",
    "\n",
    "@client_method\n",
    "def make_request():\n",
    "    request = requests.get('https://randomuser.me/api/')\n",
    "    if request.status_code != 200:\n",
    "        return None\n",
    "    else:\n",
    "        request = json.loads(request.text)\n",
    "        dic = {**request[\"results\"][0][\"name\"]}\n",
    "        dic[\"username\"] = request[\"results\"][0][\"login\"][\"username\"]\n",
    "        dic[\"password\"] = request[\"results\"][0][\"login\"][\"password\"]\n",
    "        print(dic)\n",
    "        return request\n",
    "\n",
    "counter = 0\n",
    "while counter < 200:\n",
    "    result = make_request()\n",
    "    if result:\n",
    "        counter += 1"
   ]
  },
  {
   "cell_type": "code",
   "execution_count": null,
   "metadata": {},
   "outputs": [],
   "source": []
  }
 ],
 "metadata": {
  "kernelspec": {
   "display_name": "Python 3",
   "language": "python",
   "name": "python3"
  },
  "language_info": {
   "codemirror_mode": {
    "name": "ipython",
    "version": 3
   },
   "file_extension": ".py",
   "mimetype": "text/x-python",
   "name": "python",
   "nbconvert_exporter": "python",
   "pygments_lexer": "ipython3",
   "version": "3.7.4"
  }
 },
 "nbformat": 4,
 "nbformat_minor": 2
}
